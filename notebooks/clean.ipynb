{
 "cells": [
  {
   "cell_type": "code",
   "execution_count": 1,
   "id": "a4de7863-13aa-4121-b823-dee06a381bd4",
   "metadata": {},
   "outputs": [],
   "source": [
    "import pandas as pd\n",
    "import numpy as np"
   ]
  },
  {
   "cell_type": "code",
   "execution_count": 7,
   "id": "d79bbdbb-6983-4e53-b17e-3cc24df1f308",
   "metadata": {},
   "outputs": [
    {
     "name": "stdout",
     "output_type": "stream",
     "text": [
      "train date:\n",
      "    Store  Dept       Date  Weekly_Sales  IsHoliday\n",
      "0      1     1 2010-02-05      24924.50      False\n",
      "1      1     1 2010-02-12      46039.49       True\n",
      "2      1     1 2010-02-19      41595.55      False\n",
      "3      1     1 2010-02-26      19403.54      False\n",
      "4      1     1 2010-03-05      21827.90      False\n",
      "features date:\n",
      "    Store       Date  Temperature  Fuel_Price  MarkDown1  MarkDown2  MarkDown3  \\\n",
      "0      1 2010-02-05        42.31       2.572        NaN        NaN        NaN   \n",
      "1      1 2010-02-12        38.51       2.548        NaN        NaN        NaN   \n",
      "2      1 2010-02-19        39.93       2.514        NaN        NaN        NaN   \n",
      "3      1 2010-02-26        46.63       2.561        NaN        NaN        NaN   \n",
      "4      1 2010-03-05        46.50       2.625        NaN        NaN        NaN   \n",
      "\n",
      "   MarkDown4  MarkDown5         CPI  Unemployment  IsHoliday  \n",
      "0        NaN        NaN  211.096358         8.106      False  \n",
      "1        NaN        NaN  211.242170         8.106       True  \n",
      "2        NaN        NaN  211.289143         8.106      False  \n",
      "3        NaN        NaN  211.319643         8.106      False  \n",
      "4        NaN        NaN  211.350143         8.106      False  \n",
      "stores date:\n",
      "    Store Type    Size\n",
      "0      1    A  151315\n",
      "1      2    A  202307\n",
      "2      3    B   37392\n",
      "3      4    A  205863\n",
      "4      5    B   34875\n"
     ]
    }
   ],
   "source": [
    "# Load datasets\n",
    "train = pd.read_csv(\"./../datasets/train.csv\")\n",
    "features = pd.read_csv(\"./../datasets/features.csv\")\n",
    "stores = pd.read_csv(\"./../datasets/stores.csv\")\n",
    "\n",
    "# Convert Date to datetime\n",
    "train[\"Date\"] = pd.to_datetime(train[\"Date\"])\n",
    "features[\"Date\"] = pd.to_datetime(features[\"Date\"])\n",
    "print(\"train date:\\n\", train.head())\n",
    "print(\"features date:\\n\", features.head())\n",
    "print(\"stores date:\\n\", stores.head())"
   ]
  },
  {
   "cell_type": "code",
   "execution_count": 4,
   "id": "09ef2075-c146-4e94-bfa1-7132b485a864",
   "metadata": {},
   "outputs": [
    {
     "name": "stdout",
     "output_type": "stream",
     "text": [
      "Final dataset shape: (421570, 17)\n",
      "   Store  Dept       Date  Weekly_Sales  IsHoliday_x  Temperature  Fuel_Price  \\\n",
      "0      1     1 2010-02-05      24924.50        False        42.31       2.572   \n",
      "1      1     1 2010-02-12      46039.49         True        38.51       2.548   \n",
      "2      1     1 2010-02-19      41595.55        False        39.93       2.514   \n",
      "3      1     1 2010-02-26      19403.54        False        46.63       2.561   \n",
      "4      1     1 2010-03-05      21827.90        False        46.50       2.625   \n",
      "\n",
      "   MarkDown1  MarkDown2  MarkDown3  MarkDown4  MarkDown5         CPI  \\\n",
      "0        NaN        NaN        NaN        NaN        NaN  211.096358   \n",
      "1        NaN        NaN        NaN        NaN        NaN  211.242170   \n",
      "2        NaN        NaN        NaN        NaN        NaN  211.289143   \n",
      "3        NaN        NaN        NaN        NaN        NaN  211.319643   \n",
      "4        NaN        NaN        NaN        NaN        NaN  211.350143   \n",
      "\n",
      "   Unemployment  IsHoliday_y Type    Size  \n",
      "0         8.106        False    A  151315  \n",
      "1         8.106         True    A  151315  \n",
      "2         8.106        False    A  151315  \n",
      "3         8.106        False    A  151315  \n",
      "4         8.106        False    A  151315  \n"
     ]
    }
   ],
   "source": [
    "# Merge train + features\n",
    "df = train.merge(features, on=[\"Store\", \"Date\"], how=\"left\")\n",
    "\n",
    "# Merge with stores metadata\n",
    "df = df.merge(stores, on=\"Store\", how=\"left\")\n",
    "\n",
    "print(\"Final dataset shape:\", df.shape)\n",
    "print(df.head())"
   ]
  },
  {
   "cell_type": "code",
   "execution_count": 8,
   "id": "abca4a2b-bf45-45a4-8aa2-7455808cdb32",
   "metadata": {},
   "outputs": [
    {
     "name": "stdout",
     "output_type": "stream",
     "text": [
      "Store                0\n",
      "Dept                 0\n",
      "Date                 0\n",
      "Weekly_Sales         0\n",
      "IsHoliday_x          0\n",
      "Temperature          0\n",
      "Fuel_Price           0\n",
      "MarkDown1       270889\n",
      "MarkDown2       310322\n",
      "MarkDown3       284479\n",
      "MarkDown4       286603\n",
      "MarkDown5       270138\n",
      "CPI                  0\n",
      "Unemployment         0\n",
      "IsHoliday_y          0\n",
      "Type                 0\n",
      "Size                 0\n",
      "dtype: int64\n"
     ]
    },
    {
     "name": "stderr",
     "output_type": "stream",
     "text": [
      "C:\\Users\\User\\AppData\\Local\\Temp\\ipykernel_17820\\3276043646.py:9: FutureWarning: Series.fillna with 'method' is deprecated and will raise in a future version. Use obj.ffill() or obj.bfill() instead.\n",
      "  df[\"CPI\"] = df[\"CPI\"].fillna(method=\"ffill\")\n",
      "C:\\Users\\User\\AppData\\Local\\Temp\\ipykernel_17820\\3276043646.py:10: FutureWarning: Series.fillna with 'method' is deprecated and will raise in a future version. Use obj.ffill() or obj.bfill() instead.\n",
      "  df[\"Unemployment\"] = df[\"Unemployment\"].fillna(method=\"ffill\")\n"
     ]
    }
   ],
   "source": [
    "# Check missing values\n",
    "print(df.isnull().sum())\n",
    "\n",
    "# Fill markdowns with 0 (no promotion that week)\n",
    "for col in [\"MarkDown1\",\"MarkDown2\",\"MarkDown3\",\"MarkDown4\",\"MarkDown5\"]:\n",
    "    df[col] = df[col].fillna(0)\n",
    "\n",
    "# Fill CPI/Unemployment with forward fill (carry last value)\n",
    "df[\"CPI\"] = df[\"CPI\"].fillna(method=\"ffill\")\n",
    "df[\"Unemployment\"] = df[\"Unemployment\"].fillna(method=\"ffill\")"
   ]
  },
  {
   "cell_type": "code",
   "execution_count": 10,
   "id": "c0fdc427-42f9-4555-a3d0-bec94ba9ae2f",
   "metadata": {},
   "outputs": [
    {
     "name": "stdout",
     "output_type": "stream",
     "text": [
      "   Store  Dept       Date  Weekly_Sales  IsHoliday_x  Temperature  Fuel_Price  \\\n",
      "0      1     1 2010-02-05      24924.50        False        42.31       2.572   \n",
      "1      1     1 2010-02-12      46039.49         True        38.51       2.548   \n",
      "2      1     1 2010-02-19      41595.55        False        39.93       2.514   \n",
      "3      1     1 2010-02-26      19403.54        False        46.63       2.561   \n",
      "4      1     1 2010-03-05      21827.90        False        46.50       2.625   \n",
      "\n",
      "   MarkDown1  MarkDown2  MarkDown3  ...         CPI  Unemployment  \\\n",
      "0        0.0        0.0        0.0  ...  211.096358         8.106   \n",
      "1        0.0        0.0        0.0  ...  211.242170         8.106   \n",
      "2        0.0        0.0        0.0  ...  211.289143         8.106   \n",
      "3        0.0        0.0        0.0  ...  211.319643         8.106   \n",
      "4        0.0        0.0        0.0  ...  211.350143         8.106   \n",
      "\n",
      "   IsHoliday_y  Type    Size  Year  Month  Week      Lag1     Lag4  \n",
      "0        False     A  151315  2010      2     5      0.00      0.0  \n",
      "1         True     A  151315  2010      2     6  24924.50      0.0  \n",
      "2        False     A  151315  2010      2     7  46039.49      0.0  \n",
      "3        False     A  151315  2010      2     8  41595.55      0.0  \n",
      "4        False     A  151315  2010      3     9  19403.54  24924.5  \n",
      "\n",
      "[5 rows x 22 columns]\n"
     ]
    }
   ],
   "source": [
    "# Date features\n",
    "df[\"Year\"] = df[\"Date\"].dt.year\n",
    "df[\"Month\"] = df[\"Date\"].dt.month\n",
    "df[\"Week\"] = df[\"Date\"].dt.isocalendar().week.astype(int)\n",
    "\n",
    "# Lag features (previous weeks’ sales)\n",
    "df = df.sort_values([\"Store\",\"Dept\",\"Date\"])\n",
    "df[\"Lag1\"] = df.groupby([\"Store\",\"Dept\"])[\"Weekly_Sales\"].shift(1)\n",
    "df[\"Lag4\"] = df.groupby([\"Store\",\"Dept\"])[\"Weekly_Sales\"].shift(4)\n",
    "\n",
    "# Fill NA lags with 0\n",
    "df[[\"Lag1\",\"Lag4\"]] = df[[\"Lag1\",\"Lag4\"]].fillna(0)\n",
    "print(df.head())"
   ]
  },
  {
   "cell_type": "code",
   "execution_count": 11,
   "id": "404e2718-2c5e-46bb-8dc5-a3a5ec80121b",
   "metadata": {},
   "outputs": [
    {
     "name": "stdout",
     "output_type": "stream",
     "text": [
      "✅ Preprocessing done! Clean dataset saved.\n"
     ]
    }
   ],
   "source": [
    "# Drop rows with missing target\n",
    "df = df.dropna(subset=[\"Weekly_Sales\"])\n",
    "\n",
    "# Save clean dataset\n",
    "df.to_csv(\"./../datasets/clean_walmart.csv\", index=False)\n",
    "\n",
    "print(\"✅ Preprocessing done! Clean dataset saved.\")"
   ]
  }
 ],
 "metadata": {
  "kernelspec": {
   "display_name": "Python 3 (ipykernel)",
   "language": "python",
   "name": "python3"
  },
  "language_info": {
   "codemirror_mode": {
    "name": "ipython",
    "version": 3
   },
   "file_extension": ".py",
   "mimetype": "text/x-python",
   "name": "python",
   "nbconvert_exporter": "python",
   "pygments_lexer": "ipython3",
   "version": "3.11.4"
  }
 },
 "nbformat": 4,
 "nbformat_minor": 5
}
