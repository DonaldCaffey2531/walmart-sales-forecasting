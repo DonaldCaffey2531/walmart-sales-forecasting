{
 "cells": [
  {
   "cell_type": "code",
   "execution_count": 2,
   "id": "8158bb6a-2b63-4124-a8ce-3f0b9b69b16e",
   "metadata": {},
   "outputs": [],
   "source": [
    "import pandas as pd\n",
    "import matplotlib.pyplot as plt\n",
    "from statsmodels.tsa.arima.model import ARIMA"
   ]
  },
  {
   "cell_type": "code",
   "execution_count": 4,
   "id": "e4895304-9372-47b9-957d-23607ac12365",
   "metadata": {},
   "outputs": [
    {
     "name": "stdout",
     "output_type": "stream",
     "text": [
      "            Weekly_Sales\n",
      "Date                    \n",
      "2010-02-05   49750740.50\n",
      "2010-02-12   48336677.63\n",
      "2010-02-19   48276993.78\n",
      "2010-02-26   43968571.13\n",
      "2010-03-05   46871470.30\n"
     ]
    }
   ],
   "source": [
    "# Load your cleaned dataset (or train.csv directly)\n",
    "df = pd.read_csv(\"../datasets/train.csv\", parse_dates=[\"Date\"])\n",
    "\n",
    "# Aggregate sales by date (all stores + depts)\n",
    "sales = df.groupby(\"Date\")[\"Weekly_Sales\"].sum().reset_index()\n",
    "\n",
    "# Set Date as index\n",
    "sales.set_index(\"Date\", inplace=True)\n",
    "\n",
    "print(sales.head())\n"
   ]
  },
  {
   "cell_type": "code",
   "execution_count": 5,
   "id": "797aaf72-113b-4afb-a1e0-62d186fd53b6",
   "metadata": {},
   "outputs": [
    {
     "name": "stderr",
     "output_type": "stream",
     "text": [
      "C:\\Users\\User\\AppData\\Local\\Programs\\Python\\Python311\\Lib\\site-packages\\statsmodels\\tsa\\base\\tsa_model.py:473: ValueWarning: No frequency information was provided, so inferred frequency W-FRI will be used.\n",
      "  self._init_dates(dates, freq)\n",
      "C:\\Users\\User\\AppData\\Local\\Programs\\Python\\Python311\\Lib\\site-packages\\statsmodels\\tsa\\base\\tsa_model.py:473: ValueWarning: No frequency information was provided, so inferred frequency W-FRI will be used.\n",
      "  self._init_dates(dates, freq)\n",
      "C:\\Users\\User\\AppData\\Local\\Programs\\Python\\Python311\\Lib\\site-packages\\statsmodels\\tsa\\base\\tsa_model.py:473: ValueWarning: No frequency information was provided, so inferred frequency W-FRI will be used.\n",
      "  self._init_dates(dates, freq)\n"
     ]
    },
    {
     "name": "stdout",
     "output_type": "stream",
     "text": [
      "                               SARIMAX Results                                \n",
      "==============================================================================\n",
      "Dep. Variable:           Weekly_Sales   No. Observations:                  143\n",
      "Model:                 ARIMA(2, 1, 2)   Log Likelihood               -2404.213\n",
      "Date:                Tue, 09 Sep 2025   AIC                           4818.427\n",
      "Time:                        15:55:57   BIC                           4833.206\n",
      "Sample:                    02-05-2010   HQIC                          4824.433\n",
      "                         - 10-26-2012                                         \n",
      "Covariance Type:                  opg                                         \n",
      "==============================================================================\n",
      "                 coef    std err          z      P>|z|      [0.025      0.975]\n",
      "------------------------------------------------------------------------------\n",
      "ar.L1         -0.2774      0.258     -1.075      0.282      -0.783       0.228\n",
      "ar.L2          0.4637      0.100      4.622      0.000       0.267       0.660\n",
      "ma.L1         -0.2368      0.270     -0.878      0.380      -0.765       0.292\n",
      "ma.L2         -0.7238      0.232     -3.124      0.002      -1.178      -0.270\n",
      "sigma2      3.145e+13   4.07e-14   7.72e+26      0.000    3.14e+13    3.14e+13\n",
      "===================================================================================\n",
      "Ljung-Box (L1) (Q):                   0.45   Jarque-Bera (JB):               458.87\n",
      "Prob(Q):                              0.50   Prob(JB):                         0.00\n",
      "Heteroskedasticity (H):               0.46   Skew:                             1.13\n",
      "Prob(H) (two-sided):                  0.01   Kurtosis:                        11.51\n",
      "===================================================================================\n",
      "\n",
      "Warnings:\n",
      "[1] Covariance matrix calculated using the outer product of gradients (complex-step).\n",
      "[2] Covariance matrix is singular or near-singular, with condition number 7.77e+42. Standard errors may be unstable.\n"
     ]
    }
   ],
   "source": [
    "# Fit ARIMA model: (p=2, d=1, q=2) as a start\n",
    "model = ARIMA(sales[\"Weekly_Sales\"], order=(2,1,2))\n",
    "model_fit = model.fit()\n",
    "\n",
    "# Model summary\n",
    "print(model_fit.summary())"
   ]
  },
  {
   "cell_type": "code",
   "execution_count": null,
   "id": "8be05419-a909-4066-9891-f32201c2244c",
   "metadata": {},
   "outputs": [],
   "source": []
  }
 ],
 "metadata": {
  "kernelspec": {
   "display_name": "Python 3 (ipykernel)",
   "language": "python",
   "name": "python3"
  },
  "language_info": {
   "codemirror_mode": {
    "name": "ipython",
    "version": 3
   },
   "file_extension": ".py",
   "mimetype": "text/x-python",
   "name": "python",
   "nbconvert_exporter": "python",
   "pygments_lexer": "ipython3",
   "version": "3.11.4"
  }
 },
 "nbformat": 4,
 "nbformat_minor": 5
}
